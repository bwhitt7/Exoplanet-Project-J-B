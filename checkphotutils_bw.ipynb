{
 "cells": [
  {
   "cell_type": "code",
   "execution_count": 1,
   "id": "conservative-weekend",
   "metadata": {},
   "outputs": [
    {
     "name": "stdout",
     "output_type": "stream",
     "text": [
      "Requirement already satisfied: photutils in /home/bwhitt7/.conda/envs/astroconda3/lib/python3.7/site-packages (1.1.0)\n",
      "Note: you may need to restart the kernel to use updated packages.\n"
     ]
    }
   ],
   "source": [
    "# Only need to do this the first time, then restart the kernel\n",
    "%pip install photutils --no-deps"
   ]
  },
  {
   "cell_type": "code",
   "execution_count": null,
   "id": "4044a0ea",
   "metadata": {},
   "outputs": [],
   "source": []
  },
  {
   "cell_type": "code",
   "execution_count": 2,
   "id": "intelligent-tanzania",
   "metadata": {
    "scrolled": true
   },
   "outputs": [],
   "source": [
    "#run startup.py\n",
    "import importlib as im\n",
    "import numpy as np\n",
    "import scipy as sp\n",
    "import imageio as im\n",
    "# %matplotlib inline\n",
    "# conda update astropy\n",
    "import matplotlib as mpl\n",
    "mpl.rcParams['image.origin'] = 'lower'\n",
    "mpl.rcParams['image.interpolation'] = 'nearest'\n",
    "mpl.rcParams['image.cmap'] = 'Greys_r'\n",
    "import matplotlib.pyplot as plt\n",
    "from scipy import ndimage\n",
    "from astropy.io import fits\n",
    "from astropy.io.fits import getheader\n",
    "from astropy.io.fits import getdata\n",
    "from astropy.visualization import (MinMaxInterval, SqrtStretch, ImageNormalize)\n",
    "\n",
    "from astropy import units as u\n",
    "from photutils.aperture import aperture_photometry\n",
    "from photutils.aperture import CircularAperture"
   ]
  },
  {
   "cell_type": "code",
   "execution_count": null,
   "id": "9a60ce70",
   "metadata": {},
   "outputs": [],
   "source": []
  },
  {
   "cell_type": "code",
   "execution_count": 3,
   "id": "d1dc98e8",
   "metadata": {},
   "outputs": [],
   "source": [
    "pos_star = [[566.271833, 527.936605], [564.179743, 525.161502], [580.455309, 522.959352], [591.524384, 527.588695], [605.541445, 524.260185], [473.58807, 480.066184], [482.942919, 481.020788], [489.591759, 529.464778], [522.070347, 523.116215], [566.7875, 530.628676], [564.379407, 528.191835], [591.473943, 525.506587], [575.757426, 522.095544], [566.591891, 533.040644], [565.697411, 529.129683], [584.533221, 526.198837], [592.137812, 535.173836], [603.674376, 527.320067], [583.20903, 527.321265], [596.494568, 525.105032], [605.656838, 523.716367], [592.073448, 542.607572], [517.416317, 484.147732], [514.349722, 487.586812], [499.874923, 515.974508], [494.38808, 493.349839], [496.037151, 546.064538], [554.148421, 532.378092], [573.276808, 549.802774], [596.161736, 541.88794], [590.971649, 552.485902], [614.45019, 535.10502], [601.958823, 558.13553], [547.811216, 521.972934], [512.579441, 505.133026], [488.669855, 494.070359], [534.14095, 535.778585], [559.610713, 537.471869], [585.566827, 535.486446], [612.221246, 546.598948], [589.291915, 541.592955], [513.0159, 482.986998], [499.223556, 468.75348], [535.933712, 532.375619], [570.787001, 537.285682], [568.944762, 545.640419], [587.668823, 545.118777], [602.825815, 550.203918], [607.190896, 540.731964]]\n",
    "pos_ref = [[822.430131 , 584.68482], [308.077216 , 468.378252], [324.385778 , 466.205276], [335.451584 , 470.647248], [349.567295 , 467.340499], [720.518506 , 550.552141], [730.331612 , 551.490416], [736.998992 , 599.800952], [769.047556 , 593.523368], [822.618145 , 587.301288], [308.331841 , 471.426071], [335.707294 , 468.981013], [319.668466 , 465.033751], [822.483991 , 589.957358], [309.533966 , 472.407225], [328.33896 , 469.488376], [335.725117 , 478.477722], [347.177202 , 470.353315], [327.315468 , 470.635486], [340.517163 , 468.313869], [349.638612 , 466.772921], [336.364428 , 485.784926], [270.06698 , 414.084254], [761.532804 , 558.113392], [746.990045 , 586.411777], [742.072639 , 564.167696], [742.840673 , 616.209796], [810.178967 , 589.241318], [317.129559 , 493.120804], [340.084377 , 485.282904], [334.797697 , 495.854674], [358.234234 , 478.172327], [346.020217 , 501.372235], [794.982289 , 592.494029], [760.097591 , 575.714367], [735.765881 , 564.917447], [780.696364 , 606.199684], [806.412317 , 607.867548], [841.91132 , 592.439512], [355.579578 , 489.995935], [333.15668 , 484.749682], [760.181303 , 553.37974], [746.508046 , 539.164678], [783.330994 , 602.548269], [826.752817 , 593.963945], [312.925913 , 488.778533], [331.467176 , 488.360801], [346.880125 , 493.345267], [350.753341 , 484.032719]]"
   ]
  },
  {
   "cell_type": "code",
   "execution_count": 4,
   "id": "assumed-point",
   "metadata": {},
   "outputs": [
    {
     "name": "stdout",
     "output_type": "stream",
     "text": [
      " id  xcenter    ycenter   aperture_sum magnitudes\n",
      "       pix        pix                            \n",
      "--- ---------- ---------- ------------ ----------\n",
      "  1 566.271833 527.936605    20248.325  10.234027\n",
      "  2 822.430131  584.68482    9275.2376  11.081687\n",
      " id  xcenter    ycenter   aperture_sum magnitudes\n",
      "       pix        pix                            \n",
      "--- ---------- ---------- ------------ ----------\n",
      "  1 564.179743 525.161502    20403.834  10.225721\n",
      "  2 308.077216 468.378252    8662.1158   11.15594\n",
      " id  xcenter    ycenter   aperture_sum magnitudes\n",
      "       pix        pix                            \n",
      "--- ---------- ---------- ------------ ----------\n",
      "  1 580.455309 522.959352    19906.678  10.252503\n",
      "  2 324.385778 466.205276    8584.4172  11.165723\n",
      " id  xcenter    ycenter   aperture_sum magnitudes\n",
      "       pix        pix                            \n",
      "--- ---------- ---------- ------------ ----------\n",
      "  1 591.524384 527.588695    19062.097  10.299573\n",
      "  2 335.451584 470.647248    8086.5081  11.230597\n",
      " id  xcenter    ycenter   aperture_sum magnitudes\n",
      "       pix        pix                            \n",
      "--- ---------- ---------- ------------ ----------\n",
      "  1 605.541445 524.260185    18730.171  10.318646\n",
      "  2 349.567295 467.340499    7957.0862  11.248115\n",
      " id  xcenter    ycenter   aperture_sum magnitudes\n",
      "       pix        pix                            \n",
      "--- ---------- ---------- ------------ ----------\n",
      "  1  473.58807 480.066184    16131.674  10.480801\n",
      "  2 720.518506 550.552141    5274.3072  11.694586\n",
      " id  xcenter    ycenter   aperture_sum magnitudes\n",
      "       pix        pix                            \n",
      "--- ---------- ---------- ------------ ----------\n",
      "  1 482.942919 481.020788    15604.778  10.516856\n",
      "  2 730.331612 551.490416    3927.4103  12.014734\n",
      " id  xcenter    ycenter   aperture_sum magnitudes\n",
      "       pix        pix                            \n",
      "--- ---------- ---------- ------------ ----------\n",
      "  1 489.591759 529.464778     13520.59  10.672511\n",
      "  2 736.998992 599.800952    2548.0505   12.48448\n",
      " id  xcenter    ycenter   aperture_sum magnitudes\n",
      "       pix        pix                            \n",
      "--- ---------- ---------- ------------ ----------\n",
      "  1 522.070347 523.116215    12375.669  10.768578\n",
      "  2 769.047556 593.523368    2056.6513  12.717098\n",
      " id  xcenter    ycenter   aperture_sum magnitudes\n",
      "       pix        pix                            \n",
      "--- ---------- ---------- ------------ ----------\n",
      "  1   566.7875 530.628676    17859.143  10.370348\n",
      "  2 822.618145 587.301288     6854.535  11.410055\n",
      " id  xcenter    ycenter   aperture_sum magnitudes\n",
      "       pix        pix                            \n",
      "--- ---------- ---------- ------------ ----------\n",
      "  1 564.379407 528.191835    17178.288   10.41255\n",
      "  2 308.331841 471.426071    6624.9127   11.44705\n",
      " id  xcenter    ycenter   aperture_sum magnitudes\n",
      "       pix        pix                            \n",
      "--- ---------- ---------- ------------ ----------\n",
      "  1 591.473943 525.506587    18205.634  10.349486\n",
      "  2 335.707294 468.981013    7242.8732  11.350223\n",
      " id  xcenter    ycenter   aperture_sum magnitudes\n",
      "       pix        pix                            \n",
      "--- ---------- ---------- ------------ ----------\n",
      "  1 575.757426 522.095544     17357.88  10.401258\n",
      "  2 319.668466 465.033751    7103.5413  11.371313\n",
      " id  xcenter    ycenter   aperture_sum magnitudes\n",
      "       pix        pix                            \n",
      "--- ---------- ---------- ------------ ----------\n",
      "  1 566.591891 533.040644    14467.637  10.599006\n",
      "  2 822.483991 589.957358    3884.0495  12.026788\n",
      " id  xcenter    ycenter   aperture_sum magnitudes\n",
      "       pix        pix                            \n",
      "--- ---------- ---------- ------------ ----------\n",
      "  1 565.697411 529.129683      14134.5  10.624299\n",
      "  2 309.533966 472.407225    3462.3076  12.151586\n",
      " id  xcenter    ycenter   aperture_sum magnitudes\n",
      "       pix        pix                            \n",
      "--- ---------- ---------- ------------ ----------\n",
      "  1 584.533221 526.198837    14040.991  10.631506\n",
      "  2  328.33896 469.488376    3188.3114  12.241098\n",
      " id  xcenter    ycenter   aperture_sum magnitudes\n",
      "       pix        pix                            \n",
      "--- ---------- ---------- ------------ ----------\n",
      "  1 592.137812 535.173836    13523.803  10.672253\n",
      "  2 335.725117 478.477722    3027.4076  12.297323\n",
      " id  xcenter    ycenter   aperture_sum magnitudes\n",
      "       pix        pix                            \n",
      "--- ---------- ---------- ------------ ----------\n",
      "  1 603.674376 527.320067     16730.15   10.44125\n",
      "  2 347.177202 470.353315    7075.4387  11.375617\n",
      " id  xcenter    ycenter   aperture_sum magnitudes\n",
      "       pix        pix                            \n",
      "--- ---------- ---------- ------------ ----------\n",
      "  1  583.20903 527.321265      15513.4  10.523233\n",
      "  2 327.315468 470.635486    4174.9362  11.948375\n",
      " id  xcenter    ycenter   aperture_sum magnitudes\n",
      "       pix        pix                            \n",
      "--- ---------- ---------- ------------ ----------\n",
      "  1 596.494568 525.105032    15487.644  10.525037\n",
      "  2 340.517163 468.313869    4651.4672  11.831025\n",
      " id  xcenter    ycenter   aperture_sum magnitudes\n",
      "       pix        pix                            \n",
      "--- ---------- ---------- ------------ ----------\n",
      "  1 605.656838 523.716367    15968.484  10.491841\n",
      "  2 349.638612 466.772921     5890.533  11.574614\n",
      " id  xcenter    ycenter   aperture_sum magnitudes\n",
      "       pix        pix                            \n",
      "--- ---------- ---------- ------------ ----------\n",
      "  1 592.073448 542.607572    15861.403  10.499146\n",
      "  2 336.364428 485.784926    5723.6641  11.605815\n",
      " id  xcenter    ycenter   aperture_sum magnitudes\n",
      "       pix        pix                            \n",
      "--- ---------- ---------- ------------ ----------\n",
      "  1 517.416317 484.147732    22901.073   10.10036\n",
      "  2  270.06698 414.084254    11209.169  10.876066\n",
      " id  xcenter    ycenter   aperture_sum magnitudes\n",
      "       pix        pix                            \n",
      "--- ---------- ---------- ------------ ----------\n",
      "  1 514.349722 487.586812    21143.017  10.187083\n",
      "  2 761.532804 558.113392    9741.6955  11.028414\n",
      " id  xcenter    ycenter   aperture_sum magnitudes\n",
      "       pix        pix                            \n",
      "--- ---------- ---------- ------------ ----------\n",
      "  1 499.874923 515.974508    19748.077  10.261188\n",
      "  2 746.990045 586.411777    8712.9882  11.149582\n",
      " id  xcenter    ycenter   aperture_sum magnitudes\n",
      "       pix        pix                            \n",
      "--- ---------- ---------- ------------ ----------\n",
      "  1  494.38808 493.349839    18337.507  10.341649\n",
      "  2 742.072639 564.167696    7978.6983   11.24517\n",
      " id  xcenter    ycenter   aperture_sum magnitudes\n",
      "       pix        pix                            \n",
      "--- ---------- ---------- ------------ ----------\n",
      "  1 496.037151 546.064538    16588.698  10.450469\n",
      "  2 742.840673 616.209796    6389.3627  11.486356\n",
      " id  xcenter    ycenter   aperture_sum magnitudes\n",
      "       pix        pix                            \n",
      "--- ---------- ---------- ------------ ----------\n",
      "  1 554.148421 532.378092     15455.94  10.527261\n",
      "  2 810.178967 589.241318    4417.9171  11.886956\n",
      " id  xcenter    ycenter   aperture_sum magnitudes\n",
      "       pix        pix                            \n",
      "--- ---------- ---------- ------------ ----------\n",
      "  1 573.276808 549.802774    15535.802  10.521666\n",
      "  2 317.129559 493.120804    4291.3687   11.91851\n",
      " id  xcenter    ycenter   aperture_sum magnitudes\n",
      "       pix        pix                            \n",
      "--- ---------- ---------- ------------ ----------\n",
      "  1 596.161736  541.88794    15616.006  10.516075\n",
      "  2 340.084377 485.282904    4009.5509  11.992261\n",
      " id  xcenter    ycenter   aperture_sum magnitudes\n",
      "       pix        pix                            \n",
      "--- ---------- ---------- ------------ ----------\n",
      "  1 590.971649 552.485902    14591.469  10.589752\n",
      "  2 334.797697 495.854674    3486.8797  12.143908\n",
      " id  xcenter    ycenter   aperture_sum magnitudes\n",
      "       pix        pix                            \n",
      "--- ---------- ---------- ------------ ----------\n",
      "  1  614.45019  535.10502     17125.17  10.415913\n",
      "  2 358.234234 478.172327    6023.9747  11.550292\n",
      " id  xcenter    ycenter   aperture_sum magnitudes\n",
      "       pix        pix                            \n",
      "--- ---------- ---------- ------------ ----------\n",
      "  1 601.958823  558.13553    16440.994   10.46018\n",
      "  2 346.020217 501.372235    6102.7376  11.536188\n"
     ]
    },
    {
     "name": "stdout",
     "output_type": "stream",
     "text": [
      " id  xcenter    ycenter   aperture_sum magnitudes\n",
      "       pix        pix                            \n",
      "--- ---------- ---------- ------------ ----------\n",
      "  1 547.811216 521.972934    21043.919  10.192183\n",
      "  2 794.982289 592.494029    9901.2522  11.010775\n",
      " id  xcenter    ycenter   aperture_sum magnitudes\n",
      "       pix        pix                            \n",
      "--- ---------- ---------- ------------ ----------\n",
      "  1 512.579441 505.133026    19304.603  10.285848\n",
      "  2 760.097591 575.714367    8663.3347  11.155787\n",
      " id  xcenter    ycenter   aperture_sum magnitudes\n",
      "       pix        pix                            \n",
      "--- ---------- ---------- ------------ ----------\n",
      "  1 488.669855 494.070359    19459.271  10.277184\n",
      "  2 735.765881 564.917447    8473.9039  11.179791\n",
      " id  xcenter    ycenter   aperture_sum magnitudes\n",
      "       pix        pix                            \n",
      "--- ---------- ---------- ------------ ----------\n",
      "  1  534.14095 535.778585     18172.29  10.351476\n",
      "  2 780.696364 606.199684     7136.896  11.366227\n",
      " id  xcenter    ycenter   aperture_sum magnitudes\n",
      "       pix        pix                            \n",
      "--- ---------- ---------- ------------ ----------\n",
      "  1 559.610713 537.471869    10205.552  10.977909\n",
      "  2 806.412317 607.867548    204.94961  15.220882\n",
      " id  xcenter    ycenter   aperture_sum magnitudes\n",
      "       pix        pix                            \n",
      "--- ---------- ---------- ------------ ----------\n",
      "  1 585.566827 535.486446    16967.593  10.425949\n",
      "  2  841.91132 592.439512    5304.5997  11.688368\n",
      " id  xcenter    ycenter   aperture_sum magnitudes\n",
      "       pix        pix                            \n",
      "--- ---------- ---------- ------------ ----------\n",
      "  1 612.221246 546.598948    12245.691  10.780042\n",
      "  2 355.579578 489.995935    3559.4766  12.121535\n",
      " id  xcenter    ycenter   aperture_sum magnitudes\n",
      "       pix        pix                            \n",
      "--- ---------- ---------- ------------ ----------\n",
      "  1 589.291915 541.592955    17809.874  10.373348\n",
      "  2  333.15668 484.749682    6867.1916  11.408052\n",
      " id  xcenter    ycenter   aperture_sum magnitudes\n",
      "       pix        pix                            \n",
      "--- ---------- ---------- ------------ ----------\n",
      "  1   513.0159 482.986998    13909.291  10.641738\n",
      "  2 760.181303  553.37974    2653.0713  12.440628\n",
      " id  xcenter    ycenter   aperture_sum magnitudes\n",
      "       pix        pix                            \n",
      "--- ---------- ---------- ------------ ----------\n",
      "  1 499.223556  468.75348    12388.065  10.767491\n",
      "  2 746.508046 539.164678    1960.3547  12.769163\n",
      " id  xcenter    ycenter   aperture_sum magnitudes\n",
      "       pix        pix                            \n",
      "--- ---------- ---------- ------------ ----------\n",
      "  1 535.933712 532.375619    11969.564  10.804804\n",
      "  2 783.330994 602.548269    1399.6335  13.134964\n",
      " id  xcenter    ycenter   aperture_sum magnitudes\n",
      "       pix        pix                            \n",
      "--- ---------- ---------- ------------ ----------\n",
      "  1 570.787001 537.285682    15998.671   10.48979\n",
      "  2 826.752817 593.963945    4773.6839  11.802866\n",
      " id  xcenter    ycenter   aperture_sum magnitudes\n",
      "       pix        pix                            \n",
      "--- ---------- ---------- ------------ ----------\n",
      "  1 568.944762 545.640419    15423.916  10.529513\n",
      "  2 312.925913 488.778533    4061.5584  11.978268\n",
      " id  xcenter    ycenter   aperture_sum magnitudes\n",
      "       pix        pix                            \n",
      "--- ---------- ---------- ------------ ----------\n",
      "  1 587.668823 545.118777    14228.252  10.617121\n",
      "  2 331.467176 488.360801    3966.8724  12.003879\n",
      " id  xcenter    ycenter   aperture_sum magnitudes\n",
      "       pix        pix                            \n",
      "--- ---------- ---------- ------------ ----------\n",
      "  1 602.825815 550.203918    14820.932  10.572811\n",
      "  2 346.880125 493.345267    3846.1821  12.037425\n",
      " id  xcenter    ycenter   aperture_sum magnitudes\n",
      "       pix        pix                            \n",
      "--- ---------- ---------- ------------ ----------\n",
      "  1 607.190896 540.731964    17687.786  10.380816\n",
      "  2 350.753341 484.032719    6868.0441  11.407917\n"
     ]
    }
   ],
   "source": [
    "#get file that contains name of files to look at\n",
    "dt=np.dtype([('filename', np.compat.unicode, 20)])\n",
    "files=np.genfromtxt(\"files.txt\",dtype=dt)\n",
    "infiles=files['filename']\n",
    "\n",
    "times = [] #look at JD for each picture\n",
    "mags_var = [] #get mag of var star\n",
    "mags_ref = [] #get mag of reference star\n",
    "\n",
    "for i in range (0,len(infiles)):\n",
    "    \n",
    "    aperture = CircularAperture([pos_star[i],pos_ref[i]], r=9.) #set up aps for both stars\n",
    "    sci_fn = \"wasp_19/reduced/\"+infiles[i]\n",
    "    sci_hdulist = fits.open(sci_fn)\n",
    "    data = sci_hdulist[0].data.astype(np.float64)\n",
    "    \n",
    "    # Now do the photometry\n",
    "    phot_table = aperture_photometry(data, aperture)\n",
    "    phot_table['aperture_sum'].info.format = '%.8g'  # for consistent table output\n",
    "    \n",
    "    #convert to magnitude\n",
    "    mag = -2.5* np.log10(phot_table['aperture_sum']) + 21\n",
    "    phot_table['magnitudes'] = mag\n",
    "    phot_table['magnitudes'].info.format = '%.8g'  # for consistent table output\n",
    "    print(phot_table)\n",
    "    \n",
    "    #put magnitudes and times into arraies\n",
    "    mags_var.append(phot_table[\"magnitudes\"][0])\n",
    "    mags_ref.append(phot_table[\"magnitudes\"][1])\n",
    "    \n",
    "    times.append(sci_hdulist[0].header[\"JD\"])"
   ]
  },
  {
   "cell_type": "code",
   "execution_count": 5,
   "id": "175af1c6",
   "metadata": {},
   "outputs": [
    {
     "name": "stdout",
     "output_type": "stream",
     "text": [
      "[2459693.48886563, 2459693.54536188, 2459693.59133653, 2459693.64621683, 2459693.69060767, 2459694.0515166, 2459694.0984871, 2459694.14457603, 2459694.18844194, 2459694.48839384, 2459694.53418431, 2459694.61748022, 2459694.71562133, 2459695.49488714, 2459695.54146536, 2459695.58921747, 2459695.63507787, 2459695.68616366, 2459697.56959199, 2459697.61601619, 2459697.67294226, 2459697.71678609, 2459697.9717675, 2459698.02185167, 2459698.0650003, 2459698.10772551, 2459698.16204769, 2459698.48561196, 2459698.5335942, 2459698.58080712, 2459698.62492995, 2459698.66964806, 2459698.71370176, 2459698.97985501, 2459699.02325093, 2459699.07399122, 2459699.12338193, 2459699.18067076, 2459699.48706352, 2459699.65748887, 2459699.70756641, 2459700.02486802, 2459700.07411086, 2459700.12101883, 2459700.49694703, 2459700.54689596, 2459700.59837338, 2459700.64263705, 2459700.6875883]\n"
     ]
    }
   ],
   "source": [
    "print(times)"
   ]
  },
  {
   "cell_type": "code",
   "execution_count": 6,
   "id": "09b7394c",
   "metadata": {},
   "outputs": [
    {
     "name": "stdout",
     "output_type": "stream",
     "text": [
      "[10.234027259939579, 10.225720559474087, 10.252503025152732, 10.299573327985787, 10.31864564993046, 10.480801419944868, 10.516856023958836, 10.67251089383684, 10.768578281657462, 10.370348460350574, 10.4125503034633, 10.349485503295831, 10.40125831044481, 10.599005981406695, 10.624298869583685, 10.631505568342389, 10.672252879664997, 10.441250430235755, 10.523232509185913, 10.525036629038365, 10.491840806378223, 10.499145994402022, 10.100360418104545, 10.18708258531427, 10.26118799686536, 10.341649283217707, 10.450469257122148, 10.527261456984668, 10.521665778308385, 10.51607509107995, 10.58975243683861, 10.415912791036554, 10.46017979853698, 10.192183425707478, 10.28584780069037, 10.277183589485759, 10.351475841576598, 10.977908764837194, 10.425949417679547, 10.780041758210045, 10.37334791052216, 10.641737540182104, 10.767491349258641, 10.804804180370246, 10.489790251185376, 10.529513357032041, 10.617121094865865, 10.572811224419857, 10.380816286730047]\n"
     ]
    }
   ],
   "source": [
    "print(mags_var)"
   ]
  },
  {
   "cell_type": "code",
   "execution_count": 7,
   "id": "4d9b251b",
   "metadata": {},
   "outputs": [
    {
     "name": "stdout",
     "output_type": "stream",
     "text": [
      "[11.0816873959687, 11.15594003417873, 11.165722962961848, 11.230597429192215, 11.248114847622121, 11.694586439387395, 12.014734313828155, 12.484479905968868, 12.717098341940371, 11.410054997403952, 11.447049602912095, 11.35022278967737, 11.371312723084024, 12.026788121567584, 12.151585886593203, 12.241098162480416, 12.297322763207484, 11.375616573405672, 11.948375402771756, 11.831025103494023, 11.574613516101936, 11.605814655935006, 10.876066499803818, 11.028413627289831, 11.149582182157484, 11.245169897745862, 11.486356138773091, 11.886956087504773, 11.918510419765537, 11.992260682574189, 12.14390758451971, 11.55029215523459, 11.53618825191305, 11.010774692998172, 11.155787269463968, 11.179791160908811, 11.366226581089904, 15.220882261934538, 11.688368454491739, 12.121534652737319, 11.408052084567787, 12.440627710002488, 12.769163346536509, 13.134964142575251, 11.80286586438286, 11.978268247756212, 12.003879435415932, 12.037425381999928, 11.4079173176786]\n"
     ]
    }
   ],
   "source": [
    "print(mags_ref)"
   ]
  },
  {
   "cell_type": "code",
   "execution_count": 8,
   "id": "cf9a72f8",
   "metadata": {},
   "outputs": [
    {
     "data": {
      "text/plain": [
       "<matplotlib.collections.PathCollection at 0x7f9f2a2f0e90>"
      ]
     },
     "execution_count": 8,
     "metadata": {},
     "output_type": "execute_result"
    },
    {
     "data": {
      "image/png": "[encoded data removed]",
      "text/plain": [
       "<Figure size 432x288 with 1 Axes>"
      ]
     },
     "metadata": {
      "needs_background": "light"
     },
     "output_type": "display_data"
    }
   ],
   "source": [
    "plt.scatter(times, mags_var)"
   ]
  },
  {
   "cell_type": "code",
   "execution_count": 9,
   "id": "a48ebbea",
   "metadata": {},
   "outputs": [],
   "source": [
    "period = 0.91\n",
    "time_fix = []\n",
    "time_fix.append(0)\n",
    "for i in range (1,len(times)):\n",
    "    fix = (times[i] - times[0]) % period\n",
    "    time_fix.append(fix)"
   ]
  },
  {
   "cell_type": "code",
   "execution_count": 10,
   "id": "16b29bcb",
   "metadata": {},
   "outputs": [
    {
     "data": {
      "text/plain": [
       "<matplotlib.collections.PathCollection at 0x7f9f2a759950>"
      ]
     },
     "execution_count": 10,
     "metadata": {},
     "output_type": "execute_result"
    },
    {
     "data": {
      "image/png": "[encoded data removed]",
      "text/plain": [
       "<Figure size 432x288 with 1 Axes>"
      ]
     },
     "metadata": {
      "needs_background": "light"
     },
     "output_type": "display_data"
    }
   ],
   "source": [
    "plt.scatter(time_fix, mags_var)"
   ]
  },
  {
   "cell_type": "code",
   "execution_count": 11,
   "id": "2ec33859",
   "metadata": {},
   "outputs": [],
   "source": [
    "true_ref_mag = 12 #test value since struggling with open filter\n",
    "mags_fix = []\n",
    "mags_ref_fixed = []\n",
    "mags_var_fixed = []\n",
    "\n",
    "for i in range (0, len(mags_ref)):\n",
    "    mags_fix.append(true_ref_mag - mags_ref[i])\n",
    "    \n",
    "    mags_ref_fixed.append(mags_ref[i] + mags_fix[i])\n",
    "    mags_var_fixed.append(mags_var[i] + mags_fix[i])\n",
    "#this isnt working right now"
   ]
  },
  {
   "cell_type": "code",
   "execution_count": 12,
   "id": "32913a81",
   "metadata": {},
   "outputs": [
    {
     "data": {
      "text/plain": [
       "<matplotlib.collections.PathCollection at 0x7f9f2a1a6610>"
      ]
     },
     "execution_count": 12,
     "metadata": {},
     "output_type": "execute_result"
    },
    {
     "data": {
      "image/png": "[encoded data removed]",
      "text/plain": [
       "<Figure size 432x288 with 1 Axes>"
      ]
     },
     "metadata": {
      "needs_background": "light"
     },
     "output_type": "display_data"
    }
   ],
   "source": [
    "plt.scatter(time_fix, mags_var_fixed)"
   ]
  },
  {
   "cell_type": "code",
   "execution_count": null,
   "id": "05c1411c",
   "metadata": {},
   "outputs": [],
   "source": []
  },
  {
   "cell_type": "code",
   "execution_count": null,
   "id": "8bc095cb",
   "metadata": {},
   "outputs": [],
   "source": []
  },
  {
   "cell_type": "code",
   "execution_count": null,
   "id": "d26f9f0b",
   "metadata": {},
   "outputs": [],
   "source": []
  }
 ],
 "metadata": {
  "kernelspec": {
   "display_name": "Python 3 (ipykernel)",
   "language": "python",
   "name": "python3"
  },
  "language_info": {
   "codemirror_mode": {
    "name": "ipython",
    "version": 3
   },
   "file_extension": ".py",
   "mimetype": "text/x-python",
   "name": "python",
   "nbconvert_exporter": "python",
   "pygments_lexer": "ipython3",
   "version": "3.7.13"
  }
 },
 "nbformat": 4,
 "nbformat_minor": 5
}
